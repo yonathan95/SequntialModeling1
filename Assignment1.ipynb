{
 "cells": [
  {
   "cell_type": "markdown",
   "metadata": {},
   "source": [
    "## Prerequisites"
   ]
  },
  {
   "cell_type": "code",
   "execution_count": 14,
   "metadata": {},
   "outputs": [
    {
     "name": "stderr",
     "output_type": "stream",
     "text": [
      "1775.83s - pydevd: Sending message related to process being replaced timed-out after 5 seconds\n"
     ]
    },
    {
     "name": "stdout",
     "output_type": "stream",
     "text": [
      "/home/yonathan95/.local/lib/python3.8/site-packages/pkg_resources/__init__.py:123: PkgResourcesDeprecationWarning: 0.23ubuntu1 is an invalid version and will not be supported in a future release\n",
      "  warnings.warn(\n",
      "/home/yonathan95/.local/lib/python3.8/site-packages/pkg_resources/__init__.py:123: PkgResourcesDeprecationWarning: 0.1.36ubuntu1 is an invalid version and will not be supported in a future release\n",
      "  warnings.warn(\n",
      "Requirement already satisfied: numpy in /home/yonathan95/.local/lib/python3.8/site-packages (1.23.3)\n"
     ]
    },
    {
     "name": "stderr",
     "output_type": "stream",
     "text": [
      "1784.85s - pydevd: Sending message related to process being replaced timed-out after 5 seconds\n"
     ]
    },
    {
     "name": "stdout",
     "output_type": "stream",
     "text": [
      "/home/yonathan95/.local/lib/python3.8/site-packages/pkg_resources/__init__.py:123: PkgResourcesDeprecationWarning: 0.23ubuntu1 is an invalid version and will not be supported in a future release\n",
      "  warnings.warn(\n",
      "/home/yonathan95/.local/lib/python3.8/site-packages/pkg_resources/__init__.py:123: PkgResourcesDeprecationWarning: 0.1.36ubuntu1 is an invalid version and will not be supported in a future release\n",
      "  warnings.warn(\n",
      "/home/yonathan95/.local/lib/python3.8/site-packages/pkg_resources/__init__.py:123: PkgResourcesDeprecationWarning: 0.23ubuntu1 is an invalid version and will not be supported in a future release\n",
      "  warnings.warn(\n",
      "/home/yonathan95/.local/lib/python3.8/site-packages/pkg_resources/__init__.py:123: PkgResourcesDeprecationWarning: 0.1.36ubuntu1 is an invalid version and will not be supported in a future release\n",
      "  warnings.warn(\n",
      "Collecting torch\n",
      "  Downloading torch-1.13.0-cp38-cp38-manylinux1_x86_64.whl (890.2 MB)\n",
      "\u001b[K     |████████████████████████████████| 890.2 MB 6.8 kB/s  eta 0:00:01    |█                               | 26.1 MB 20.5 MB/s eta 0:00:43     |███▉                            | 106.2 MB 4.0 MB/s eta 0:03:16     |████▎                           | 117.9 MB 9.0 MB/s eta 0:01:27     |██████▌                         | 182.0 MB 36.9 MB/s eta 0:00:20     |██████▊                         | 186.2 MB 70.8 MB/s eta 0:00:10     |██████████                      | 276.4 MB 75.2 MB/s eta 0:00:09MB/s eta 0:00:10�██████████▎        | 647.5 MB 33.6 MB/s eta 0:00:08     |████████████████████████████▋   | 797.1 MB 24.3 MB/s eta 0:00:04\n",
      "\u001b[?25hRequirement already satisfied: typing-extensions in /home/yonathan95/.local/lib/python3.8/site-packages (from torch) (4.3.0)\n",
      "Collecting nvidia-cuda-runtime-cu11==11.7.99\n",
      "  Downloading nvidia_cuda_runtime_cu11-11.7.99-py3-none-manylinux1_x86_64.whl (849 kB)\n",
      "\u001b[K     |████████████████████████████████| 849 kB 7.5 MB/s eta 0:00:01\n",
      "\u001b[?25hCollecting nvidia-cudnn-cu11==8.5.0.96\n",
      "  Downloading nvidia_cudnn_cu11-8.5.0.96-2-py3-none-manylinux1_x86_64.whl (557.1 MB)\n",
      "\u001b[K     |████████████████████████████████| 557.1 MB 3.7 kB/s eta 0:00:011   |                                | 1.3 MB 15.0 MB/s eta 0:00:38   |▌                               | 9.6 MB 15.0 MB/s eta 0:00:37     |█▋                              | 27.7 MB 1.3 MB/s eta 0:06:58     |█▋                              | 28.6 MB 1.3 MB/s eta 0:06:5743.1 MB 1.3 MB/s eta 0:06:46     |███▊                            | 63.9 MB 46.9 MB/s eta 0:00:11 MB 46.9 MB/s eta 0:00:11     |█████▎                          | 92.7 MB 12.2 MB/s eta 0:00:38MB/s eta 0:00:51     |████████                        | 137.9 MB 32.5 MB/s eta 0:00:13     |█████████▍                      | 163.2 MB 43.5 MB/s eta 0:00:10MB/s eta 0:00:13     |█████████████▊                  | 239.4 MB 33.9 MB/s eta 0:00:10/s eta 0:00:11��█████████████▍              | 302.2 MB 11.7 MB/s eta 0:00:22     |███████████████████             | 329.7 MB 33.4 MB/s eta 0:00:07     |███████████████████▏            | 332.8 MB 33.4 MB/s eta 0:00:07��█▏            | 333.8 MB 33.4 MB/s eta 0:00:07��█▍            | 336.9 MB 33.4 MB/s eta 0:00:07     |███████████████████▌            | 339.6 MB 33.4 MB/s eta 0:00:07��█▊            | 343.1 MB 33.4 MB/s eta 0:00:07     |█████████████████████           | 364.1 MB 28.8 MB/s eta 0:00:07     |█████████████████████▌          | 374.5 MB 28.8 MB/s eta 0:00:07:00:07██████        | 417.3 MB 6.8 MB/s eta 0:00:21     |████████████████████████▎       | 423.6 MB 6.8 MB/s eta 0:00:20     |████████████████████████▍       | 424.8 MB 6.8 MB/s eta 0:00:20██████▌       | 427.4 MB 5.6 MB/s eta 0:00:23     |████████████████████████▊       | 429.8 MB 5.6 MB/s eta 0:00:23     |████████████████████████▉       | 432.4 MB 5.6 MB/s eta 0:00:23     |█████████████████████████       | 434.1 MB 5.6 MB/s eta 0:00:22     |██████████████████████████▉     | 466.8 MB 12.5 MB/s eta 0:00:08ta 0:00:01�██ | 539.3 MB 28.0 MB/s eta 0:00:01�██ | 541.3 MB 28.0 MB/s eta 0:00:01     |███████████████████████████████▉| 553.3 MB 660 kB/s eta 0:00:06\n",
      "\u001b[?25hCollecting nvidia-cublas-cu11==11.10.3.66\n",
      "  Downloading nvidia_cublas_cu11-11.10.3.66-py3-none-manylinux1_x86_64.whl (317.1 MB)\n",
      "\u001b[K     |████████████████████████████████| 317.1 MB 34 kB/s s eta 0:00:01    |██▎                             | 22.6 MB 37.8 MB/s eta 0:00:08     |████▊                           | 46.3 MB 33.2 MB/s eta 0:00:09         | 58.7 MB 33.2 MB/s eta 0:00:08912[K     |█████████                       | 89.9 MB 21.1 MB/s eta 0:00:11     |█████████▉                      | 97.3 MB 20.9 MB/s eta 0:00:11     |██████████▊                     | 106.2 MB 20.9 MB/s eta 0:00:11     |█████████████                   | 129.6 MB 5.7 MB/s eta 0:00:34     |██████████████▉                 | 147.5 MB 38.3 MB/s eta 0:00:05     |██████████████████              | 178.9 MB 13.5 MB/s eta 0:00:11███████████████████████       | 246.9 MB 25.3 MB/s eta 0:00:03MB/s eta 0:00:03     |████████████████████████████    | 276.5 MB 9.1 MB/s eta 0:00:05     |█████████████████████████████▊  | 294.7 MB 14.7 MB/s eta 0:00:02\n",
      "\u001b[?25hCollecting nvidia-cuda-nvrtc-cu11==11.7.99\n",
      "  Downloading nvidia_cuda_nvrtc_cu11-11.7.99-2-py3-none-manylinux1_x86_64.whl (21.0 MB)\n",
      "\u001b[K     |████████████████████████████████| 21.0 MB 11.1 MB/s eta 0:00:01    |█████▎                          | 3.4 MB 34.9 MB/s eta 0:00:01\n",
      "\u001b[?25hRequirement already satisfied: setuptools in /home/yonathan95/.local/lib/python3.8/site-packages (from nvidia-cuda-runtime-cu11==11.7.99->torch) (65.4.1)\n",
      "Requirement already satisfied: wheel in /home/yonathan95/.local/lib/python3.8/site-packages (from nvidia-cuda-runtime-cu11==11.7.99->torch) (0.37.1)\n",
      "Installing collected packages: nvidia-cuda-runtime-cu11, nvidia-cublas-cu11, nvidia-cudnn-cu11, nvidia-cuda-nvrtc-cu11, torch\n",
      "Successfully installed nvidia-cublas-cu11-11.10.3.66 nvidia-cuda-nvrtc-cu11-11.7.99 nvidia-cuda-runtime-cu11-11.7.99 nvidia-cudnn-cu11-8.5.0.96 torch-1.13.0\n"
     ]
    }
   ],
   "source": [
    "! pip install numpy\n",
    "! pip install torch"
   ]
  },
  {
   "cell_type": "code",
   "execution_count": 2,
   "metadata": {},
   "outputs": [],
   "source": [
    "import numpy as np\n",
    "import matplotlib.pyplot as plt\n",
    "import torch\n",
    "from torch import nn, optim\n",
    "import numpy as np\n",
    "import matplotlib.pyplot as plt\n",
    "import random"
   ]
  },
  {
   "cell_type": "markdown",
   "metadata": {},
   "source": [
    "## Assignment1"
   ]
  },
  {
   "cell_type": "markdown",
   "metadata": {},
   "source": [
    "### Oscillator"
   ]
  },
  {
   "cell_type": "code",
   "execution_count": 30,
   "metadata": {},
   "outputs": [],
   "source": [
    "def calc_grad(x1, x2, delta_t=0.01):\n",
    "    return (x2 - x1)/ delta_t\n",
    "\n",
    "def conv_to_2d(seqs, seq_length=20):\n",
    "    data = []\n",
    "    for s in seqs:\n",
    "        seq = [None] * seq_length\n",
    "        seq[0] = [s[0], 0]\n",
    "        for i in range(1, len(seq)):\n",
    "            seq[i] = [s[i], calc_grad(s[i-1], s[i])]\n",
    "        data.append(np.array(seq))\n",
    "    return data\n",
    "    \n",
    "\n",
    "def generate_harmonic_oscillator_sequence(delta_t = 0.01, seq_length=20):\n",
    "    x_0 = random.random()\n",
    "    xs = [None] * seq_length\n",
    "    xs[0] = x_0\n",
    "    xs[1] = x_0 - 0.5 * x_0 * (delta_t**2)\n",
    "    \n",
    "    for i in range(1, seq_length - 1):\n",
    "        xs[i+1] = 2.0 * xs[i] - xs[i-1] - xs[i] * (delta_t**2)\n",
    "    return xs\n",
    "    "
   ]
  },
  {
   "cell_type": "markdown",
   "metadata": {},
   "source": [
    "### Generate data"
   ]
  },
  {
   "cell_type": "code",
   "execution_count": 4,
   "metadata": {},
   "outputs": [],
   "source": [
    "train_data = []\n",
    "for i in range(400):\n",
    "    train_data.append(generate_harmonic_oscillator_sequence())\n",
    "\n",
    "test_data = []\n",
    "for i in range(100):\n",
    "    test_data.append(generate_harmonic_oscillator_sequence())\n"
   ]
  },
  {
   "cell_type": "markdown",
   "metadata": {},
   "source": [
    "### Plot"
   ]
  },
  {
   "cell_type": "code",
   "execution_count": 85,
   "metadata": {},
   "outputs": [],
   "source": [
    "def prepare_data(sequence):\n",
    "    x_pos = [x[0] for x in sequence]\n",
    "    v_pos = [x[1] for x in sequence]\n",
    "    x_direct = v_pos\n",
    "    v_direct = [None] * len(v_pos)\n",
    "    v_direct[0] = 0\n",
    "    for i in range(1, len(v_direct)):\n",
    "        v_direct[i] = calc_grad(v_pos[i-1], v_pos[i])\n",
    "    \n",
    "    return x_pos, v_pos, x_direct, v_direct\n",
    "\n",
    "def plot_phase_diagram(data, title):\n",
    "    x_pos = []\n",
    "    v_pos = []\n",
    "    x_direct = []\n",
    "    v_direct = []\n",
    "    for s in data:\n",
    "        sx_pos, sv_pos, sx_direct, sv_direct = prepare_data(s)\n",
    "        x_pos += sx_pos\n",
    "        v_pos += sv_pos\n",
    "        x_direct += sx_direct\n",
    "        v_direct += sv_direct\n",
    "\n",
    "    # Creating plot\n",
    "    fig, ax = plt.subplots(figsize = (12, 7))\n",
    "    ax.quiver(x_pos, v_pos, x_direct, v_direct)\n",
    "    \n",
    "    ax.axis([-1.5, 1.5, -1.5, 1.5])\n",
    "    \n",
    "    # show plot\n",
    "    plt.grid()\n",
    "    plt.title(title)\n",
    "    plt.xlabel('X')\n",
    "    plt.ylabel('V',rotation=0)\n",
    "    plt.show()"
   ]
  },
  {
   "cell_type": "code",
   "execution_count": 86,
   "metadata": {},
   "outputs": [
    {
     "data": {
      "image/png": "[encoded data removed]",
      "text/plain": [
       "<Figure size 1200x700 with 1 Axes>"
      ]
     },
     "metadata": {},
     "output_type": "display_data"
    }
   ],
   "source": [
    "plot_phase_diagram(conv_to_2d(train_data), 'Phase diagram of the train data')"
   ]
  },
  {
   "cell_type": "markdown",
   "metadata": {},
   "source": [
    "### Model"
   ]
  },
  {
   "cell_type": "code",
   "execution_count": 14,
   "metadata": {},
   "outputs": [],
   "source": [
    "import torch\n",
    "from torch import nn, optim\n",
    "import numpy as np\n",
    "import matplotlib.pyplot as plt\n",
    "\n",
    "# number of points\n",
    "sequence_length = 20\n",
    "hidden_size = 10\n",
    "input_size = 1\n",
    "output_size = 1\n",
    "lr = 0.01\n",
    "\n",
    "\n",
    "class RNN(nn.Module):\n",
    "    def __init__(self):\n",
    "        super(RNN, self).__init__()\n",
    "\n",
    "        self.rnn = nn.RNN(\n",
    "            input_size=input_size,\n",
    "            hidden_size=hidden_size,\n",
    "            num_layers=1,\n",
    "            batch_first=True,\n",
    "            # use batch_first for input with another data shape with b first\n",
    "        )\n",
    "        # compress output to the same dim as y\n",
    "        self.linear = nn.Linear(hidden_size, output_size)\n",
    "\n",
    "    def forward(self, x, hidden_prev):\n",
    "        out, hidden_prev = self.rnn(x, hidden_prev)\n",
    "        # [1, seq, h] => [seq, h]  (batch=1)\n",
    "        out = out.reshape(-1, hidden_size)  # stack batch and seq\n",
    "\n",
    "        # linear layer so that output is not [seq,h] but [seq, 1]\n",
    "        # so it is comparable with y, for loss calculation\n",
    "        out = self.linear(out)  # [seq, h] => [seq, 1]\n",
    "        out = out.unsqueeze(dim=0)  # => [1, seq, 1]\n",
    "        return out, hidden_prev\n"
   ]
  },
  {
   "cell_type": "code",
   "execution_count": null,
   "metadata": {},
   "outputs": [],
   "source": [
    "### Train"
   ]
  },
  {
   "cell_type": "code",
   "execution_count": null,
   "metadata": {},
   "outputs": [],
   "source": [
    "model = RNN()\n",
    "criterion = nn.MSELoss()\n",
    "optimizer = optim.Adam(model.parameters(), lr)\n",
    "epochs = 100\n",
    "hidden_prev = torch.zeros(1, 1, hidden_size)  # [b, layer, mem_size]\n",
    "\n",
    "train_err = []\n",
    "test_err = []\n",
    "\n",
    "for e in range(epochs):\n",
    "    # Train\n",
    "    t_loss = 0\n",
    "    random.shuffle(train_data)\n",
    "    for data in train_data:\n",
    "        x = torch.tensor(data[:-1]).float().reshape(1, sequence_length - 1, 1)  # [b, seq_len, fea_len]\n",
    "        y = torch.tensor(data[1:]).float().reshape(1, sequence_length - 1, 1)  # [b, seq_len, fea_len]\n",
    "\n",
    "        output, hidden_prev = model(x, hidden_prev)\n",
    "        hidden_prev = hidden_prev.detach()\n",
    "\n",
    "        loss = criterion(output, y)\n",
    "        model.zero_grad()\n",
    "\n",
    "        loss.backward()\n",
    "        optimizer.step()\n",
    "        t_loss += loss.detach()\n",
    "        \n",
    "    train_err.append(t_loss/ 400)\n",
    "\n",
    "    # Test\n",
    "    hidden_prev = torch.zeros(1, 1, hidden_size)  # [b, layer, mem_size]\n",
    "    t_loss = 0\n",
    "    with torch.no_grad():\n",
    "        for data in test_data:\n",
    "            x = torch.tensor(data[:-1]).float().reshape(1, sequence_length - 1, 1)\n",
    "            y = torch.tensor(data[1:]).float().reshape(1, sequence_length - 1, 1)\n",
    "\n",
    "            output, hidden_prev = model(x, hidden_prev)\n",
    "            hidden_prev = hidden_prev.detach()\n",
    "\n",
    "            t_loss += criterion(output, y).detach()\n",
    "        test_err.append(t_loss / 100)\n",
    "            "
   ]
  },
  {
   "cell_type": "code",
   "execution_count": 69,
   "metadata": {},
   "outputs": [],
   "source": [
    "model2 = RNN()\n",
    "criterion = nn.MSELoss()\n",
    "optimizer = optim.Adam(model2.parameters(), lr)\n",
    "epochs = 100\n",
    "\n",
    "train_err = []\n",
    "test_err = []\n",
    "\n",
    "for e in range(epochs):\n",
    "    # Train\n",
    "    t_loss = 0\n",
    "    random.shuffle(train_data)\n",
    "    for i in range(1, 41):\n",
    "        hidden_train_prev = torch.zeros(1, 10, hidden_size)\n",
    "        train = train_data[(i-1)*10 : i*10]\n",
    "        train_x = [d[:-1] for d in train]\n",
    "        train_y = [d[1:] for d in train]\n",
    "        x = torch.tensor(train_x).float().reshape(10, sequence_length - 1, 1)  \n",
    "        y = torch.tensor(train_y).float().reshape(10, sequence_length - 1, 1) \n",
    "\n",
    "        output, hidden_train_prev = model2(x, hidden_train_prev)\n",
    "        hidden_train_prev = hidden_train_prev.detach()\n",
    "\n",
    "        loss = criterion(output.reshape(10, sequence_length - 1, 1), y)\n",
    "        model2.zero_grad()\n",
    "\n",
    "        loss.backward()\n",
    "        optimizer.step()\n",
    "        t_loss += loss.detach()\n",
    "        \n",
    "    train_err.append(t_loss/ 400)\n",
    "\n",
    "    # Test\n",
    "    \n",
    "    t_loss = 0\n",
    "    with torch.no_grad():\n",
    "        for data in test_data:\n",
    "            hidden_test_prev = torch.zeros(1, 1, hidden_size)\n",
    "            x = torch.tensor(data[:-1]).float().reshape(1, sequence_length - 1, 1)\n",
    "            y = torch.tensor(data[1:]).float().reshape(1, sequence_length - 1, 1)\n",
    "\n",
    "            output, hidden_test_prev = model2(x, hidden_test_prev)\n",
    "            hidden_test_prev = hidden_test_prev.detach()\n",
    "\n",
    "            t_loss += criterion(output, y).detach()\n",
    "        test_err.append(t_loss / 100)\n",
    "            "
   ]
  },
  {
   "cell_type": "code",
   "execution_count": 70,
   "metadata": {},
   "outputs": [
    {
     "data": {
      "text/plain": [
       "<matplotlib.legend.Legend at 0x7f58c3091130>"
      ]
     },
     "execution_count": 70,
     "metadata": {},
     "output_type": "execute_result"
    },
    {
     "data": {
      "image/png": "[encoded data removed]",
      "text/plain": [
       "<Figure size 640x480 with 1 Axes>"
      ]
     },
     "metadata": {},
     "output_type": "display_data"
    }
   ],
   "source": [
    "plt.plot(train_err, label='Train error')\n",
    "plt.plot(test_err, label='Test error')\n",
    "plt.xlabel(\"Epoch\")\n",
    "plt.ylabel(\"Error\")\n",
    "plt.title('Error at the end of each epoch')\n",
    "plt.legend()"
   ]
  },
  {
   "cell_type": "markdown",
   "metadata": {},
   "source": [
    "## 3."
   ]
  },
  {
   "cell_type": "code",
   "execution_count": 87,
   "metadata": {},
   "outputs": [],
   "source": [
    "def predict_traj(s):\n",
    "    with torch.no_grad():\n",
    "        traj = [s]\n",
    "        hidden_prev = torch.zeros(1, 1, hidden_size)\n",
    "        last = torch.tensor(s).float().reshape(1, 1, 1)\n",
    "        for _ in range(19):\n",
    "            last, hidden_prev = model2(last, hidden_prev)\n",
    "            traj.append(float(last.squeeze().detach().numpy()))\n",
    "        \n",
    "        return traj\n",
    "\n",
    "ts = []\n",
    "for _ in range(10000):\n",
    "    s = random.random()\n",
    "    ts.append(predict_traj(s))\n",
    "plot_phase_diagram(conv_to_2d(ts), 'Phase diagram of the 10000 predicted values')"
   ]
  }
 ],
 "metadata": {
  "kernelspec": {
   "display_name": "Python 3.8.10 64-bit",
   "language": "python",
   "name": "python3"
  },
  "language_info": {
   "codemirror_mode": {
    "name": "ipython",
    "version": 3
   },
   "file_extension": ".py",
   "mimetype": "text/x-python",
   "name": "python",
   "nbconvert_exporter": "python",
   "pygments_lexer": "ipython3",
   "version": "3.8.10"
  },
  "orig_nbformat": 4,
  "vscode": {
   "interpreter": {
    "hash": "916dbcbb3f70747c44a77c7bcd40155683ae19c65e1c03b4aa3499c5328201f1"
   }
  }
 },
 "nbformat": 4,
 "nbformat_minor": 2
}
